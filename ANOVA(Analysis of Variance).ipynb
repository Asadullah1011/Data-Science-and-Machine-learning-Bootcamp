{
 "cells": [
  {
   "cell_type": "markdown",
   "id": "2e7e7424",
   "metadata": {},
   "source": [
    "ANOVA is used to compare differnce amoung more than 2 groups. It does looking by this variation at variation in the data and where that variation is found (hence it name). Specifically, ANOVA compares the amount of variation between groups with the amount of variation within groups."
   ]
  },
  {
   "cell_type": "markdown",
   "id": "6237b2f6",
   "metadata": {},
   "source": [
    "Null Hypothesis typically is that all means are equal.\n",
    "The independent variables are categorical\n",
    "Dependent variables are continous."
   ]
  },
  {
   "cell_type": "markdown",
   "id": "6e5eed8c",
   "metadata": {},
   "source": [
    "**F Value**"
   ]
  },
  {
   "cell_type": "markdown",
   "id": "cbe688f8",
   "metadata": {},
   "source": [
    "F= sample means of between groups/sample means of with in groups"
   ]
  },
  {
   "cell_type": "markdown",
   "id": "40ea8305",
   "metadata": {},
   "source": [
    "There are several types of ANOVA tests designed for different expermenatal design and scenarios. Here are some of the most common types of ANOVA tests."
   ]
  },
  {
   "cell_type": "markdown",
   "id": "43aa4a3b",
   "metadata": {},
   "source": [
    "**One way Annova:**"
   ]
  },
  {
   "cell_type": "markdown",
   "id": "5823cb4a",
   "metadata": {},
   "source": [
    "Used when comparing means from multiple independent groups( or treatment). Determine if there are significant differences in means amoung the groups.\n"
   ]
  },
  {
   "cell_type": "markdown",
   "id": "30ce8409",
   "metadata": {},
   "source": [
    "Example: Comparing the effect of different teaching methods on student exams scores."
   ]
  },
  {
   "cell_type": "markdown",
   "id": "dd8677de",
   "metadata": {},
   "source": [
    "**Two way Annova**"
   ]
  },
  {
   "cell_type": "markdown",
   "id": "fc61f602",
   "metadata": {},
   "source": [
    "Used when there are two independent categorical variables (factors) that may influence the dependent variable. investigate the main effects of each factor and their interaction effect."
   ]
  },
  {
   "cell_type": "markdown",
   "id": "c1b5a9eb",
   "metadata": {},
   "source": [
    "**One-way ANOVA:**"
   ]
  },
  {
   "cell_type": "markdown",
   "id": "cbb3c18b",
   "metadata": {},
   "source": [
    "**Example:** Anova test for Fertilizer Effectiveness"
   ]
  },
  {
   "cell_type": "markdown",
   "id": "6ab73b46",
   "metadata": {},
   "source": [
    "**Scenario:** A botanist is conducting  and experiment to compare the growth of plants using three differnet types of fertilizers: Fertilizer A, Fertlizer B and Fertlizer C. The experiment involves randomly assigning 30 plants to each fertilizer group and measuring the height of the plants after a certain period."
   ]
  },
  {
   "cell_type": "markdown",
   "id": "0a538cbe",
   "metadata": {},
   "source": [
    "**Hypothesis**"
   ]
  },
  {
   "cell_type": "markdown",
   "id": "cf9986d1",
   "metadata": {},
   "source": [
    "**Null Hypothesis (H0):** There is no significant differnece in plant growth amoung the three types of fertilizer.\n"
   ]
  },
  {
   "cell_type": "markdown",
   "id": "0f2f9739",
   "metadata": {},
   "source": [
    "**Alternative Hypothesis (Ha):** Atleast one fertlizer type significantly affects plant growth"
   ]
  },
  {
   "cell_type": "code",
   "execution_count": 9,
   "id": "dd24776e",
   "metadata": {},
   "outputs": [
    {
     "name": "stdout",
     "output_type": "stream",
     "text": [
      "7.79804714171454e-44\n",
      "Reject the null hypothesis: There is significant difference in plant growth amoung the fertilizers.\n"
     ]
    }
   ],
   "source": [
    "import numpy as np\n",
    "from scipy.stats import f_oneway\n",
    "\n",
    "\n",
    "#Heights of plant for each fertilizer group\n",
    "fertilizer_a= np.array([15.2, 16.5, 14.8, 17.3, 15.9, 16.1, 17.8, 15.6 ,16.4,\n",
    "                       14.7, 16.8, 16.2, 16.7, 15.5, 16.0, 16.6, 15.9, 15.3,\n",
    "                       16.5, 16.9, 15.7, 16.3, 15.8, 17.1, 15.4, 16.5, 16.2,\n",
    "                       17.0, 15.1, 16.4, 16.6])\n",
    "\n",
    "fertilizer_b= np.array([14.3, 13.8, 13.5, 14.7, 13.9, 14.5, 14.0, 14.9, 13.7,\n",
    "                       14.4, 14.2, 14.6, 14.1, 13.6, 14.3, 14.8, 14.2, 14.5,\n",
    "                       14.7, 13.9, 14.4, 13.8, 14.6, 14.1, 13.5, 14.2, 13.7,\n",
    "                       14.0, 14.3, 14.5, 14.1])\n",
    "\n",
    "fertilizer_c= np.array([17.5, 18.3, 17.0, 18.6, 17.9, 17.2, 18.1, 17.7 ,18.0,\n",
    "                       17.3, 17.8, 18.2, 17.4, 18.5, 17.6, 18.4, 18.1, 17.1,\n",
    "                       18.2, 18.3, 17.8, 18.0, 17.9, 18.1, 17.7, 18.2, 18.6,\n",
    "                       17.5, 18.3, 18.4, 17.6])\n",
    "\n",
    "\n",
    "#Perform one way ANNOVA\n",
    "\n",
    "f_statistic, p_value = f_oneway(fertilizer_a, fertilizer_b, fertilizer_c)\n",
    "print(p_value)\n",
    "\n",
    "#Intercept the result\n",
    "alpha = 0.05 #Significant value\n",
    "\n",
    "if p_value < alpha:\n",
    "    print(\"Reject the null hypothesis: There is significant difference in plant growth amoung the fertilizers.\")\n",
    "else:\n",
    "    print(\"Fail to reject the null hypothesis: There is no significant differnce in plant growth ampung fertilizers\")\n"
   ]
  },
  {
   "cell_type": "code",
   "execution_count": null,
   "id": "ffceb86a",
   "metadata": {},
   "outputs": [],
   "source": []
  },
  {
   "cell_type": "markdown",
   "id": "8e2a9270",
   "metadata": {},
   "source": [
    "**Two-Way ANNOVA**"
   ]
  },
  {
   "cell_type": "markdown",
   "id": "f964ae24",
   "metadata": {},
   "source": [
    "**Scenario:** Researcher are conducting a study to determine the effects or diet type (Factor A: Low Carb, Balanaced, low fat) and excercise level  (Factor B: Sedentary, Moderate,Active ) on weight loss. They recruit participants and measure their weight before and after specified period.\n",
    "\n"
   ]
  },
  {
   "cell_type": "markdown",
   "id": "dbec3837",
   "metadata": {},
   "source": [
    "**Hypothesis:**"
   ]
  },
  {
   "cell_type": "markdown",
   "id": "12d01a41",
   "metadata": {},
   "source": [
    "**Null Hypothesis (H0) :** There is no interaction between diet type and excercise level on weight loss.\n"
   ]
  },
  {
   "cell_type": "markdown",
   "id": "bb572ab6",
   "metadata": {},
   "source": [
    "**Alternative Hypothesis(Ha):** There is an interaction between diet type and excercise level on weight loss"
   ]
  },
  {
   "cell_type": "code",
   "execution_count": 18,
   "id": "214f4acc",
   "metadata": {},
   "outputs": [
    {
     "data": {
      "text/html": [
       "<div>\n",
       "<style scoped>\n",
       "    .dataframe tbody tr th:only-of-type {\n",
       "        vertical-align: middle;\n",
       "    }\n",
       "\n",
       "    .dataframe tbody tr th {\n",
       "        vertical-align: top;\n",
       "    }\n",
       "\n",
       "    .dataframe thead th {\n",
       "        text-align: right;\n",
       "    }\n",
       "</style>\n",
       "<table border=\"1\" class=\"dataframe\">\n",
       "  <thead>\n",
       "    <tr style=\"text-align: right;\">\n",
       "      <th></th>\n",
       "      <th>Diet</th>\n",
       "      <th>Excercise</th>\n",
       "      <th>WeightLoss</th>\n",
       "    </tr>\n",
       "  </thead>\n",
       "  <tbody>\n",
       "    <tr>\n",
       "      <th>0</th>\n",
       "      <td>Low Carb</td>\n",
       "      <td>Sedentary</td>\n",
       "      <td>2.3</td>\n",
       "    </tr>\n",
       "    <tr>\n",
       "      <th>1</th>\n",
       "      <td>Low Carb</td>\n",
       "      <td>Moderate</td>\n",
       "      <td>3.1</td>\n",
       "    </tr>\n",
       "    <tr>\n",
       "      <th>2</th>\n",
       "      <td>Low Carb</td>\n",
       "      <td>Active</td>\n",
       "      <td>4.2</td>\n",
       "    </tr>\n",
       "    <tr>\n",
       "      <th>3</th>\n",
       "      <td>Balanced</td>\n",
       "      <td>Sedenary</td>\n",
       "      <td>1.5</td>\n",
       "    </tr>\n",
       "    <tr>\n",
       "      <th>4</th>\n",
       "      <td>Balanced</td>\n",
       "      <td>Moderate</td>\n",
       "      <td>2.0</td>\n",
       "    </tr>\n",
       "    <tr>\n",
       "      <th>5</th>\n",
       "      <td>Balanaced</td>\n",
       "      <td>Active</td>\n",
       "      <td>2.8</td>\n",
       "    </tr>\n",
       "    <tr>\n",
       "      <th>6</th>\n",
       "      <td>Low Fat</td>\n",
       "      <td>Sedentary</td>\n",
       "      <td>1.0</td>\n",
       "    </tr>\n",
       "    <tr>\n",
       "      <th>7</th>\n",
       "      <td>Low Fat</td>\n",
       "      <td>Moderate</td>\n",
       "      <td>1.2</td>\n",
       "    </tr>\n",
       "    <tr>\n",
       "      <th>8</th>\n",
       "      <td>Low Fat</td>\n",
       "      <td>Active</td>\n",
       "      <td>1.5</td>\n",
       "    </tr>\n",
       "  </tbody>\n",
       "</table>\n",
       "</div>"
      ],
      "text/plain": [
       "        Diet  Excercise  WeightLoss\n",
       "0   Low Carb  Sedentary         2.3\n",
       "1   Low Carb   Moderate         3.1\n",
       "2   Low Carb     Active         4.2\n",
       "3   Balanced   Sedenary         1.5\n",
       "4   Balanced   Moderate         2.0\n",
       "5  Balanaced     Active         2.8\n",
       "6    Low Fat  Sedentary         1.0\n",
       "7    Low Fat   Moderate         1.2\n",
       "8    Low Fat     Active         1.5"
      ]
     },
     "execution_count": 18,
     "metadata": {},
     "output_type": "execute_result"
    }
   ],
   "source": [
    "import pandas as pd\n",
    "#Create dataframe with simulated data\n",
    "data = {\n",
    "    'Diet': ['Low Carb', 'Low Carb', 'Low Carb', 'Balanced', 'Balanced', 'Balanaced','Low Fat', 'Low Fat', 'Low Fat'],\n",
    "    'Excercise': ['Sedentary', 'Moderate', 'Active', 'Sedenary', 'Moderate', 'Active', 'Sedentary', 'Moderate', 'Active'],\n",
    "    'WeightLoss': [2.3,3.1,4.2, 1.5, 2.0, 2.8, 1.0, 1.2, 1.5]\n",
    "    \n",
    "}\n",
    "\n",
    "df= pd.DataFrame(data)\n",
    "df"
   ]
  },
  {
   "cell_type": "code",
   "execution_count": 19,
   "id": "0d27346a",
   "metadata": {},
   "outputs": [
    {
     "name": "stdout",
     "output_type": "stream",
     "text": [
      "            df    sum_sq   mean_sq         F    PR(>F)\n",
      "Diet       3.0  6.563889  2.187963  8.870120  0.103003\n",
      "Excercise  3.0  1.578333  0.526111  2.132883  0.335005\n",
      "Residual   2.0  0.493333  0.246667       NaN       NaN\n"
     ]
    }
   ],
   "source": [
    "import statsmodels.api as sm\n",
    "from statsmodels.formula.api import ols\n",
    "\n",
    "#Fit two way Annova model\n",
    "\n",
    "model = ols('WeightLoss ~ Diet + Excercise', data= df).fit()\n",
    "anova_table = sm.stats.anova_lm(model)\n",
    "\n",
    "#Intercept the result\n",
    "print(anova_table)"
   ]
  },
  {
   "cell_type": "code",
   "execution_count": null,
   "id": "0bb24acf",
   "metadata": {},
   "outputs": [],
   "source": []
  }
 ],
 "metadata": {
  "kernelspec": {
   "display_name": "Python 3 (ipykernel)",
   "language": "python",
   "name": "python3"
  },
  "language_info": {
   "codemirror_mode": {
    "name": "ipython",
    "version": 3
   },
   "file_extension": ".py",
   "mimetype": "text/x-python",
   "name": "python",
   "nbconvert_exporter": "python",
   "pygments_lexer": "ipython3",
   "version": "3.11.5"
  }
 },
 "nbformat": 4,
 "nbformat_minor": 5
}
