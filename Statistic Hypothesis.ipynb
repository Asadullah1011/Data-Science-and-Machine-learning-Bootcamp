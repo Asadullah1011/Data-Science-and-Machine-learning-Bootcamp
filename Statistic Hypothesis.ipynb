{
 "cells": [
  {
   "cell_type": "markdown",
   "id": "5e99e897",
   "metadata": {},
   "source": [
    "**Hypothesis**"
   ]
  },
  {
   "cell_type": "markdown",
   "id": "9d549bde",
   "metadata": {},
   "source": [
    "Make a guess (not wild guess) based on assumtption without scientific proof or Explaning the situation based on reasonable assumption\n",
    "\n",
    "Null hypothesis H(0) = Decision always leads to status quo. Current status assumptions doesn't change.\n",
    "Alternative Hypothesis(Ha) = Decision leads to opposite of H0"
   ]
  },
  {
   "cell_type": "markdown",
   "id": "fc157d98",
   "metadata": {},
   "source": [
    "**Problem**\n"
   ]
  },
  {
   "cell_type": "markdown",
   "id": "3ecafa93",
   "metadata": {},
   "source": [
    "A car manufacturing company claims mileage of all cars is  25 kmpl. The population standard deviation is known from the past experienceto be 1.5 kmpl. A car rental company wantsto test teh null hypothesis that the average mileage is atleast 25 kmpl. Car rental representive drove 30 cars(samples) of the same company and recorded each car mileage. The average of sample turn out to be 24.2 kmpl.\n",
    "\n",
    "Test teh null hypothesis?\n",
    "\n",
    "**(H0) Null hypothesis>=25**\n",
    "**(H1) Alternative hypothesis <25**\n"
   ]
  },
  {
   "cell_type": "code",
   "execution_count": 1,
   "id": "baef7508",
   "metadata": {},
   "outputs": [],
   "source": [
    "import numpy as np\n",
    "mean = 25\n",
    "sample_mean = 24.2\n",
    "std = 1.5\n",
    "n=30"
   ]
  },
  {
   "cell_type": "code",
   "execution_count": 2,
   "id": "5110a859",
   "metadata": {},
   "outputs": [
    {
     "data": {
      "text/plain": [
       "-2.921186973360889"
      ]
     },
     "execution_count": 2,
     "metadata": {},
     "output_type": "execute_result"
    }
   ],
   "source": [
    "z= (sample_mean- mean)/ (std/np.sqrt(30))\n",
    "z"
   ]
  },
  {
   "cell_type": "markdown",
   "id": "0583ee6a",
   "metadata": {},
   "source": [
    "above z score need to be check in Z-table and get p value"
   ]
  },
  {
   "cell_type": "markdown",
   "id": "9a78121f",
   "metadata": {},
   "source": [
    "p value is 0.0018\n",
    "\n",
    "if sample size n is >=30 then data distributed normally"
   ]
  },
  {
   "cell_type": "code",
   "execution_count": 4,
   "id": "eaaf7d8b",
   "metadata": {},
   "outputs": [
    {
     "data": {
      "text/plain": [
       "0.0017435024460706768"
      ]
     },
     "execution_count": 4,
     "metadata": {},
     "output_type": "execute_result"
    }
   ],
   "source": [
    "import scipy.stats as st\n",
    "import numpy as np\n",
    "p_value = st.norm.cdf(sample_mean, loc = mean, scale = std/np.sqrt(30))\n",
    "p_value"
   ]
  },
  {
   "cell_type": "markdown",
   "id": "62767580",
   "metadata": {},
   "source": [
    "p_value or probability value determines if the  result is statiscally significant or not. If it is significant then it means o outcome is not by chance or random luck\n"
   ]
  },
  {
   "cell_type": "markdown",
   "id": "6b587085",
   "metadata": {},
   "source": [
    "**Important points**"
   ]
  },
  {
   "cell_type": "code",
   "execution_count": null,
   "id": "cd787395",
   "metadata": {},
   "outputs": [],
   "source": []
  },
  {
   "cell_type": "markdown",
   "id": "f68f565a",
   "metadata": {},
   "source": [
    "Standard alpha level = 0.05\n",
    "if p value is <0.05 then we reject null hypothesis (H0)\n",
    "if p value is >0.05 the we fail to reject null hypothesis (H0)\n",
    "Conclusion: As the p value is less than 0.05, we reject the null hypothesis (mileage>=25kmpl) which means all cars do not give 25 mileage so rental company will not buy cars.\n"
   ]
  },
  {
   "cell_type": "markdown",
   "id": "6a5c8dbf",
   "metadata": {},
   "source": [
    "Type 1 Error if H0 is true and you reject H0\n"
   ]
  },
  {
   "cell_type": "markdown",
   "id": "fbffc950",
   "metadata": {},
   "source": [
    "In our example, If average car mileage is really 25 or >25 kmpl and rental agency rejects. it is type 1 error.\n"
   ]
  },
  {
   "cell_type": "markdown",
   "id": "08bc80d8",
   "metadata": {},
   "source": [
    "Type 2 error if h0 is false  and you failed to reject h0\n"
   ]
  },
  {
   "cell_type": "markdown",
   "id": "5d348999",
   "metadata": {},
   "source": [
    "If Average car mileage is really <25 kmpl but rental agency buying cars(failed to reject h0). It is type 2 error.\n"
   ]
  },
  {
   "cell_type": "code",
   "execution_count": null,
   "id": "79a162bc",
   "metadata": {},
   "outputs": [],
   "source": []
  },
  {
   "cell_type": "markdown",
   "id": "adee014a",
   "metadata": {},
   "source": [
    "**Statistical tools**"
   ]
  },
  {
   "cell_type": "markdown",
   "id": "b95389f2",
   "metadata": {},
   "source": [
    "t test or student test\n"
   ]
  },
  {
   "cell_type": "markdown",
   "id": "2fdc46e9",
   "metadata": {},
   "source": [
    "ANOVA"
   ]
  },
  {
   "cell_type": "markdown",
   "id": "fa4724e2",
   "metadata": {},
   "source": [
    "Chi Sqaure"
   ]
  },
  {
   "cell_type": "code",
   "execution_count": 6,
   "id": "b7fe27f7",
   "metadata": {},
   "outputs": [
    {
     "data": {
      "text/html": [
       "<div>\n",
       "<style scoped>\n",
       "    .dataframe tbody tr th:only-of-type {\n",
       "        vertical-align: middle;\n",
       "    }\n",
       "\n",
       "    .dataframe tbody tr th {\n",
       "        vertical-align: top;\n",
       "    }\n",
       "\n",
       "    .dataframe thead th {\n",
       "        text-align: right;\n",
       "    }\n",
       "</style>\n",
       "<table border=\"1\" class=\"dataframe\">\n",
       "  <thead>\n",
       "    <tr style=\"text-align: right;\">\n",
       "      <th></th>\n",
       "      <th>ID</th>\n",
       "      <th>Gender</th>\n",
       "      <th>Race</th>\n",
       "      <th>SEB</th>\n",
       "      <th>School</th>\n",
       "      <th>Prog</th>\n",
       "      <th>Read</th>\n",
       "      <th>Write</th>\n",
       "      <th>Math1</th>\n",
       "      <th>Math2</th>\n",
       "      <th>SST</th>\n",
       "    </tr>\n",
       "  </thead>\n",
       "  <tbody>\n",
       "    <tr>\n",
       "      <th>0</th>\n",
       "      <td>70</td>\n",
       "      <td>0</td>\n",
       "      <td>4</td>\n",
       "      <td>1</td>\n",
       "      <td>1</td>\n",
       "      <td>1</td>\n",
       "      <td>57</td>\n",
       "      <td>52</td>\n",
       "      <td>41</td>\n",
       "      <td>47</td>\n",
       "      <td>57</td>\n",
       "    </tr>\n",
       "    <tr>\n",
       "      <th>1</th>\n",
       "      <td>121</td>\n",
       "      <td>1</td>\n",
       "      <td>4</td>\n",
       "      <td>2</td>\n",
       "      <td>1</td>\n",
       "      <td>3</td>\n",
       "      <td>68</td>\n",
       "      <td>59</td>\n",
       "      <td>53</td>\n",
       "      <td>63</td>\n",
       "      <td>61</td>\n",
       "    </tr>\n",
       "    <tr>\n",
       "      <th>2</th>\n",
       "      <td>86</td>\n",
       "      <td>0</td>\n",
       "      <td>4</td>\n",
       "      <td>3</td>\n",
       "      <td>1</td>\n",
       "      <td>1</td>\n",
       "      <td>44</td>\n",
       "      <td>33</td>\n",
       "      <td>54</td>\n",
       "      <td>58</td>\n",
       "      <td>31</td>\n",
       "    </tr>\n",
       "    <tr>\n",
       "      <th>3</th>\n",
       "      <td>141</td>\n",
       "      <td>0</td>\n",
       "      <td>4</td>\n",
       "      <td>3</td>\n",
       "      <td>1</td>\n",
       "      <td>3</td>\n",
       "      <td>63</td>\n",
       "      <td>44</td>\n",
       "      <td>47</td>\n",
       "      <td>53</td>\n",
       "      <td>56</td>\n",
       "    </tr>\n",
       "    <tr>\n",
       "      <th>4</th>\n",
       "      <td>172</td>\n",
       "      <td>0</td>\n",
       "      <td>4</td>\n",
       "      <td>2</td>\n",
       "      <td>1</td>\n",
       "      <td>2</td>\n",
       "      <td>47</td>\n",
       "      <td>52</td>\n",
       "      <td>57</td>\n",
       "      <td>53</td>\n",
       "      <td>61</td>\n",
       "    </tr>\n",
       "  </tbody>\n",
       "</table>\n",
       "</div>"
      ],
      "text/plain": [
       "    ID  Gender  Race  SEB  School  Prog  Read  Write  Math1  Math2  SST\n",
       "0   70       0     4    1       1     1    57     52     41     47   57\n",
       "1  121       1     4    2       1     3    68     59     53     63   61\n",
       "2   86       0     4    3       1     1    44     33     54     58   31\n",
       "3  141       0     4    3       1     3    63     44     47     53   56\n",
       "4  172       0     4    2       1     2    47     52     57     53   61"
      ]
     },
     "execution_count": 6,
     "metadata": {},
     "output_type": "execute_result"
    }
   ],
   "source": [
    "import pandas as pd\n",
    "hyp = pd.read_csv('Hypothesis ttest.csv')\n",
    "hyp.head()"
   ]
  },
  {
   "cell_type": "markdown",
   "id": "1aa62353",
   "metadata": {},
   "source": [
    "A teacher wants to teach students for a competitive exams. She collected sample of students marks from different schools and based on her past experience she believes that , these type of students will score more than 60 in the exams. Now she wants to conduct hypothesis on the marks."
   ]
  },
  {
   "cell_type": "code",
   "execution_count": 7,
   "id": "341fd8f8",
   "metadata": {},
   "outputs": [],
   "source": [
    "# H0 = mu >= 60\n",
    "# Ha = mu < 60"
   ]
  },
  {
   "cell_type": "code",
   "execution_count": 8,
   "id": "9404d87c",
   "metadata": {},
   "outputs": [
    {
     "data": {
      "text/plain": [
       "52.645"
      ]
     },
     "execution_count": 8,
     "metadata": {},
     "output_type": "execute_result"
    }
   ],
   "source": [
    "hyp['Math1'].mean()"
   ]
  },
  {
   "cell_type": "code",
   "execution_count": 10,
   "id": "91377def",
   "metadata": {},
   "outputs": [],
   "source": [
    "alpha = 0.05\n",
    "xbar = 52.645\n",
    "mu = 60"
   ]
  },
  {
   "cell_type": "markdown",
   "id": "ab7b0161",
   "metadata": {},
   "source": [
    "**1 Sample t test**"
   ]
  },
  {
   "cell_type": "code",
   "execution_count": 11,
   "id": "5afd6a6d",
   "metadata": {},
   "outputs": [],
   "source": [
    "import scipy.stats as st"
   ]
  },
  {
   "cell_type": "code",
   "execution_count": 12,
   "id": "96287e0b",
   "metadata": {},
   "outputs": [
    {
     "data": {
      "text/plain": [
       "TtestResult(statistic=-11.102736525713398, pvalue=1.3339158110547646e-22, df=199)"
      ]
     },
     "execution_count": 12,
     "metadata": {},
     "output_type": "execute_result"
    }
   ],
   "source": [
    "#Since we are conduction sample test for one sample we will go for 1 sample test\n",
    "st.ttest_1samp(hyp.Math1, mu)\n"
   ]
  },
  {
   "cell_type": "code",
   "execution_count": 13,
   "id": "99efdfef",
   "metadata": {},
   "outputs": [],
   "source": [
    "# When you run ttest, we get 2 values 1. t statistic score and two p value for two tail.\n",
    "# p value/2"
   ]
  },
  {
   "cell_type": "markdown",
   "id": "50cae652",
   "metadata": {},
   "source": [
    "**2 Sample t test**"
   ]
  },
  {
   "cell_type": "markdown",
   "id": "485f2903",
   "metadata": {},
   "source": [
    "**independent sample**"
   ]
  },
  {
   "cell_type": "markdown",
   "id": "75ea6dbf",
   "metadata": {},
   "source": [
    "**paired sample**"
   ]
  },
  {
   "cell_type": "code",
   "execution_count": 14,
   "id": "56d0d572",
   "metadata": {},
   "outputs": [
    {
     "data": {
      "text/html": [
       "<div>\n",
       "<style scoped>\n",
       "    .dataframe tbody tr th:only-of-type {\n",
       "        vertical-align: middle;\n",
       "    }\n",
       "\n",
       "    .dataframe tbody tr th {\n",
       "        vertical-align: top;\n",
       "    }\n",
       "\n",
       "    .dataframe thead th {\n",
       "        text-align: right;\n",
       "    }\n",
       "</style>\n",
       "<table border=\"1\" class=\"dataframe\">\n",
       "  <thead>\n",
       "    <tr style=\"text-align: right;\">\n",
       "      <th></th>\n",
       "      <th>ID</th>\n",
       "      <th>Gender</th>\n",
       "      <th>Race</th>\n",
       "      <th>SEB</th>\n",
       "      <th>School</th>\n",
       "      <th>Prog</th>\n",
       "      <th>Read</th>\n",
       "      <th>Write</th>\n",
       "      <th>Math1</th>\n",
       "      <th>Math2</th>\n",
       "      <th>SST</th>\n",
       "    </tr>\n",
       "  </thead>\n",
       "  <tbody>\n",
       "    <tr>\n",
       "      <th>0</th>\n",
       "      <td>70</td>\n",
       "      <td>0</td>\n",
       "      <td>4</td>\n",
       "      <td>1</td>\n",
       "      <td>1</td>\n",
       "      <td>1</td>\n",
       "      <td>57</td>\n",
       "      <td>52</td>\n",
       "      <td>41</td>\n",
       "      <td>47</td>\n",
       "      <td>57</td>\n",
       "    </tr>\n",
       "    <tr>\n",
       "      <th>1</th>\n",
       "      <td>121</td>\n",
       "      <td>1</td>\n",
       "      <td>4</td>\n",
       "      <td>2</td>\n",
       "      <td>1</td>\n",
       "      <td>3</td>\n",
       "      <td>68</td>\n",
       "      <td>59</td>\n",
       "      <td>53</td>\n",
       "      <td>63</td>\n",
       "      <td>61</td>\n",
       "    </tr>\n",
       "    <tr>\n",
       "      <th>2</th>\n",
       "      <td>86</td>\n",
       "      <td>0</td>\n",
       "      <td>4</td>\n",
       "      <td>3</td>\n",
       "      <td>1</td>\n",
       "      <td>1</td>\n",
       "      <td>44</td>\n",
       "      <td>33</td>\n",
       "      <td>54</td>\n",
       "      <td>58</td>\n",
       "      <td>31</td>\n",
       "    </tr>\n",
       "    <tr>\n",
       "      <th>3</th>\n",
       "      <td>141</td>\n",
       "      <td>0</td>\n",
       "      <td>4</td>\n",
       "      <td>3</td>\n",
       "      <td>1</td>\n",
       "      <td>3</td>\n",
       "      <td>63</td>\n",
       "      <td>44</td>\n",
       "      <td>47</td>\n",
       "      <td>53</td>\n",
       "      <td>56</td>\n",
       "    </tr>\n",
       "    <tr>\n",
       "      <th>4</th>\n",
       "      <td>172</td>\n",
       "      <td>0</td>\n",
       "      <td>4</td>\n",
       "      <td>2</td>\n",
       "      <td>1</td>\n",
       "      <td>2</td>\n",
       "      <td>47</td>\n",
       "      <td>52</td>\n",
       "      <td>57</td>\n",
       "      <td>53</td>\n",
       "      <td>61</td>\n",
       "    </tr>\n",
       "  </tbody>\n",
       "</table>\n",
       "</div>"
      ],
      "text/plain": [
       "    ID  Gender  Race  SEB  School  Prog  Read  Write  Math1  Math2  SST\n",
       "0   70       0     4    1       1     1    57     52     41     47   57\n",
       "1  121       1     4    2       1     3    68     59     53     63   61\n",
       "2   86       0     4    3       1     1    44     33     54     58   31\n",
       "3  141       0     4    3       1     3    63     44     47     53   56\n",
       "4  172       0     4    2       1     2    47     52     57     53   61"
      ]
     },
     "execution_count": 14,
     "metadata": {},
     "output_type": "execute_result"
    }
   ],
   "source": [
    "hyp.head()"
   ]
  },
  {
   "cell_type": "code",
   "execution_count": 15,
   "id": "31caabc5",
   "metadata": {},
   "outputs": [
    {
     "data": {
      "text/plain": [
       "Gender\n",
       "1    109\n",
       "0     91\n",
       "Name: count, dtype: int64"
      ]
     },
     "execution_count": 15,
     "metadata": {},
     "output_type": "execute_result"
    }
   ],
   "source": [
    "hyp['Gender'].value_counts()"
   ]
  },
  {
   "cell_type": "code",
   "execution_count": 16,
   "id": "f89bf5fa",
   "metadata": {},
   "outputs": [
    {
     "data": {
      "text/plain": [
       "1     53\n",
       "92    65\n",
       "93    52\n",
       "94    46\n",
       "95    61\n",
       "Name: Math1, dtype: int64"
      ]
     },
     "execution_count": 16,
     "metadata": {},
     "output_type": "execute_result"
    }
   ],
   "source": [
    "hyp[hyp['Gender']==1].Math1.head()"
   ]
  },
  {
   "cell_type": "markdown",
   "id": "8a44b677",
   "metadata": {},
   "source": [
    "**Independent sample**"
   ]
  },
  {
   "cell_type": "code",
   "execution_count": 17,
   "id": "a40b5e4c",
   "metadata": {},
   "outputs": [
    {
     "data": {
      "text/plain": [
       "0.6800544974232143"
      ]
     },
     "execution_count": 17,
     "metadata": {},
     "output_type": "execute_result"
    }
   ],
   "source": [
    "t,p = st.ttest_ind(hyp[hyp['Gender']==1].Math1, hyp[hyp['Gender']==0].Math1)\n",
    "p"
   ]
  },
  {
   "cell_type": "markdown",
   "id": "1e3a2721",
   "metadata": {},
   "source": [
    "p value 0.68 not less than alpha 0.05 which means we fail to reject null hypothesis"
   ]
  },
  {
   "cell_type": "markdown",
   "id": "7734a07a",
   "metadata": {},
   "source": [
    "**Paired Sample**"
   ]
  },
  {
   "cell_type": "code",
   "execution_count": 18,
   "id": "9c255867",
   "metadata": {},
   "outputs": [
    {
     "data": {
      "text/plain": [
       "0.1767652560550735"
      ]
     },
     "execution_count": 18,
     "metadata": {},
     "output_type": "execute_result"
    }
   ],
   "source": [
    "t,p = st.ttest_rel(hyp.Math1, hyp.Math2)\n",
    "p"
   ]
  },
  {
   "cell_type": "code",
   "execution_count": null,
   "id": "5198c780",
   "metadata": {},
   "outputs": [],
   "source": [
    " # P value greater than alpha 0.05 we fail to reject null hypothesis "
   ]
  }
 ],
 "metadata": {
  "kernelspec": {
   "display_name": "Python 3 (ipykernel)",
   "language": "python",
   "name": "python3"
  },
  "language_info": {
   "codemirror_mode": {
    "name": "ipython",
    "version": 3
   },
   "file_extension": ".py",
   "mimetype": "text/x-python",
   "name": "python",
   "nbconvert_exporter": "python",
   "pygments_lexer": "ipython3",
   "version": "3.11.5"
  }
 },
 "nbformat": 4,
 "nbformat_minor": 5
}
